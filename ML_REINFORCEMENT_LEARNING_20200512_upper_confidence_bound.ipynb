{
  "nbformat": 4,
  "nbformat_minor": 0,
  "metadata": {
    "colab": {
      "name": "ML_REINFORCEMENT_LEARNING_20200512_upper_confidence_bound.ipynb",
      "provenance": [],
      "collapsed_sections": [],
      "toc_visible": true,
      "include_colab_link": true
    },
    "kernelspec": {
      "name": "python3",
      "display_name": "Python 3"
    }
  },
  "cells": [
    {
      "cell_type": "markdown",
      "metadata": {
        "id": "view-in-github",
        "colab_type": "text"
      },
      "source": [
        "<a href=\"https://colab.research.google.com/github/jubatistim/GoogleColabsGeneral/blob/master/ML_REINFORCEMENT_LEARNING_20200512_upper_confidence_bound.ipynb\" target=\"_parent\"><img src=\"https://colab.research.google.com/assets/colab-badge.svg\" alt=\"Open In Colab\"/></a>"
      ]
    },
    {
      "cell_type": "markdown",
      "metadata": {
        "id": "QJdrJJQUv3-k",
        "colab_type": "text"
      },
      "source": [
        "# Upper Confidence Bound (UCB)"
      ]
    },
    {
      "cell_type": "markdown",
      "metadata": {
        "id": "ePc9W0eY8ovw",
        "colab_type": "text"
      },
      "source": [
        "Data: https://drive.google.com/file/d/1px-MaHaGqYmLx2ud_vwpwE_BiP1c_nyk/view?usp=sharing"
      ]
    },
    {
      "cell_type": "markdown",
      "metadata": {
        "id": "KKDhShD88qct",
        "colab_type": "text"
      },
      "source": [
        "## Algorithm\n",
        "\n",
        "![Algorithm](https://i.imgur.com/iRvK1Wt.png)"
      ]
    },
    {
      "cell_type": "markdown",
      "metadata": {
        "id": "2XCjepjJwEv-",
        "colab_type": "text"
      },
      "source": [
        "## Importing the libraries"
      ]
    },
    {
      "cell_type": "code",
      "metadata": {
        "id": "l_mBkG3YwNTt",
        "colab_type": "code",
        "colab": {}
      },
      "source": [
        "import numpy as np\n",
        "import matplotlib.pyplot as plt\n",
        "import pandas as pd"
      ],
      "execution_count": 0,
      "outputs": []
    },
    {
      "cell_type": "markdown",
      "metadata": {
        "id": "npqlXjaNwYTv",
        "colab_type": "text"
      },
      "source": [
        "## Importing the dataset"
      ]
    },
    {
      "cell_type": "code",
      "metadata": {
        "id": "HMJfUVLVwcFc",
        "colab_type": "code",
        "colab": {}
      },
      "source": [
        "dataset = pd.read_csv('Ads_CTR_Optimisation.csv')"
      ],
      "execution_count": 0,
      "outputs": []
    },
    {
      "cell_type": "markdown",
      "metadata": {
        "id": "CWN6LI-sATJ8",
        "colab_type": "text"
      },
      "source": [
        "## Using random choices for ads"
      ]
    },
    {
      "cell_type": "markdown",
      "metadata": {
        "id": "s7j5Wnz6_L4h",
        "colab_type": "text"
      },
      "source": [
        "### Choosing random ads"
      ]
    },
    {
      "cell_type": "code",
      "metadata": {
        "id": "DbwWgJGb_QE0",
        "colab_type": "code",
        "colab": {}
      },
      "source": [
        "import random\n",
        "N = 10000\n",
        "d = 10\n",
        "ads_selected_random = []\n",
        "total_reward_random = 0\n",
        "for n in range(0, N):\n",
        "  ad = random.randrange(d)\n",
        "  ads_selected_random.append(ad)\n",
        "  reward = dataset.values[n, ad]\n",
        "  total_reward_random = total_reward_random + reward"
      ],
      "execution_count": 0,
      "outputs": []
    },
    {
      "cell_type": "markdown",
      "metadata": {
        "id": "9aQDtRukAPDH",
        "colab_type": "text"
      },
      "source": [
        "### Total reward Random"
      ]
    },
    {
      "cell_type": "code",
      "metadata": {
        "id": "udMMj4VYAa5f",
        "colab_type": "code",
        "colab": {
          "base_uri": "https://localhost:8080/",
          "height": 35
        },
        "outputId": "df970aff-d5f7-4a12-fe3a-dfc19f8ec190"
      },
      "source": [
        "print(total_reward_random)"
      ],
      "execution_count": 11,
      "outputs": [
        {
          "output_type": "stream",
          "text": [
            "1240\n"
          ],
          "name": "stdout"
        }
      ]
    },
    {
      "cell_type": "markdown",
      "metadata": {
        "id": "89P85jL0Agk0",
        "colab_type": "text"
      },
      "source": [
        "### Visualising the results for random choices"
      ]
    },
    {
      "cell_type": "code",
      "metadata": {
        "id": "No7gkvWwAmcS",
        "colab_type": "code",
        "colab": {
          "base_uri": "https://localhost:8080/",
          "height": 295
        },
        "outputId": "32ab99a7-6177-40b4-f746-42a3588b360d"
      },
      "source": [
        "plt.hist(ads_selected_random)\n",
        "plt.title('Histogram of ads selections')\n",
        "plt.xlabel('Ads')\n",
        "plt.ylabel('Number of times each ad was selected')\n",
        "plt.show()"
      ],
      "execution_count": 12,
      "outputs": [
        {
          "output_type": "display_data",
          "data": {
            "image/png": "[encoded data removed]",
            "text/plain": [
              "<Figure size 432x288 with 1 Axes>"
            ]
          },
          "metadata": {
            "tags": [],
            "needs_background": "light"
          }
        }
      ]
    },
    {
      "cell_type": "markdown",
      "metadata": {
        "id": "awNDjMdsBAJq",
        "colab_type": "text"
      },
      "source": [
        "## Using UCB (Upper Confidence Bound)"
      ]
    },
    {
      "cell_type": "markdown",
      "metadata": {
        "id": "PaSbots_wfoB",
        "colab_type": "text"
      },
      "source": [
        "### Implementing UCB"
      ]
    },
    {
      "cell_type": "code",
      "metadata": {
        "id": "V1K7jgDFwkRd",
        "colab_type": "code",
        "colab": {}
      },
      "source": [
        "import math\n",
        "N = 10000\n",
        "d = 10\n",
        "ads_selected = []\n",
        "numbers_of_selections = [0] * d\n",
        "sums_of_rewards = [0] * d\n",
        "total_reward = 0\n",
        "for n in range(0, N):\n",
        "    ad = 0\n",
        "    max_upper_bound = 0\n",
        "    for i in range(0, d):\n",
        "        if (numbers_of_selections[i] > 0):\n",
        "            average_reward = sums_of_rewards[i] / numbers_of_selections[i]\n",
        "            delta_i = math.sqrt(3/2 * math.log(n + 1) / numbers_of_selections[i])\n",
        "            upper_bound = average_reward + delta_i\n",
        "        else:\n",
        "            upper_bound = 1e400\n",
        "        if upper_bound > max_upper_bound:\n",
        "            max_upper_bound = upper_bound\n",
        "            ad = i\n",
        "    ads_selected.append(ad)\n",
        "    numbers_of_selections[ad] = numbers_of_selections[ad] + 1\n",
        "    reward = dataset.values[n, ad]\n",
        "    sums_of_rewards[ad] = sums_of_rewards[ad] + reward\n",
        "    total_reward = total_reward + reward"
      ],
      "execution_count": 0,
      "outputs": []
    },
    {
      "cell_type": "markdown",
      "metadata": {
        "id": "db0cgR7iBH2z",
        "colab_type": "text"
      },
      "source": [
        "### Total reward UCB"
      ]
    },
    {
      "cell_type": "code",
      "metadata": {
        "id": "K26v_P4BBIDp",
        "colab_type": "code",
        "colab": {
          "base_uri": "https://localhost:8080/",
          "height": 35
        },
        "outputId": "14739003-33a8-4581-e7dc-51aa9eae8af3"
      },
      "source": [
        "print(total_reward)"
      ],
      "execution_count": 14,
      "outputs": [
        {
          "output_type": "stream",
          "text": [
            "2178\n"
          ],
          "name": "stdout"
        }
      ]
    },
    {
      "cell_type": "markdown",
      "metadata": {
        "id": "AXftWcjDwsYj",
        "colab_type": "text"
      },
      "source": [
        "### Visualising the results UCB"
      ]
    },
    {
      "cell_type": "code",
      "metadata": {
        "id": "eVyD_EDXwtkK",
        "colab_type": "code",
        "outputId": "83ec6ba8-0aad-4f67-b8bf-06697f795bd9",
        "colab": {
          "base_uri": "https://localhost:8080/",
          "height": 295
        }
      },
      "source": [
        "plt.hist(ads_selected)\n",
        "plt.title('Histogram of ads selections')\n",
        "plt.xlabel('Ads')\n",
        "plt.ylabel('Number of times each ad was selected')\n",
        "plt.show()"
      ],
      "execution_count": 15,
      "outputs": [
        {
          "output_type": "display_data",
          "data": {
            "image/png": "[encoded data removed]",
            "text/plain": [
              "<Figure size 432x288 with 1 Axes>"
            ]
          },
          "metadata": {
            "tags": [],
            "needs_background": "light"
          }
        }
      ]
    }
  ]
}