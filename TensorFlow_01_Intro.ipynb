{
  "nbformat": 4,
  "nbformat_minor": 0,
  "metadata": {
    "colab": {
      "name": "TensorFlow - 01 - Intro.ipynb",
      "provenance": [],
      "collapsed_sections": [],
      "authorship_tag": "ABX9TyM1K9OkLITP25jfRRVHHm3G",
      "include_colab_link": true
    },
    "kernelspec": {
      "name": "python3",
      "display_name": "Python 3"
    }
  },
  "cells": [
    {
      "cell_type": "markdown",
      "metadata": {
        "id": "view-in-github",
        "colab_type": "text"
      },
      "source": [
        "<a href=\"https://colab.research.google.com/github/jubatistim/GoogleColabsGeneral/blob/master/TensorFlow_01_Intro.ipynb\" target=\"_parent\"><img src=\"https://colab.research.google.com/assets/colab-badge.svg\" alt=\"Open In Colab\"/></a>"
      ]
    },
    {
      "cell_type": "markdown",
      "metadata": {
        "id": "-ku6emTWi-gI",
        "colab_type": "text"
      },
      "source": [
        "# Tensors"
      ]
    },
    {
      "cell_type": "markdown",
      "metadata": {
        "id": "iB_QSfvricZ-",
        "colab_type": "text"
      },
      "source": [
        "Specify version of TensorFlow to be used in collab notebook"
      ]
    },
    {
      "cell_type": "code",
      "metadata": {
        "id": "lRhdfd2-IW4r",
        "colab_type": "code",
        "outputId": "ad942df3-08e5-4477-b215-32eccc67e66f",
        "colab": {
          "base_uri": "https://localhost:8080/",
          "height": 102
        }
      },
      "source": [
        "%tensorflow_version 2.x  # this line is not required unless you are in a notebook"
      ],
      "execution_count": 0,
      "outputs": [
        {
          "output_type": "stream",
          "text": [
            "`%tensorflow_version` only switches the major version: 1.x or 2.x.\n",
            "You set: `2.x  # this line is not required unless you are in a notebook`. This will be interpreted as: `2.x`.\n",
            "\n",
            "\n",
            "TensorFlow 2.x selected.\n"
          ],
          "name": "stdout"
        }
      ]
    },
    {
      "cell_type": "markdown",
      "metadata": {
        "id": "vTDvPUCgi3uR",
        "colab_type": "text"
      },
      "source": [
        "Imports"
      ]
    },
    {
      "cell_type": "code",
      "metadata": {
        "id": "dxYinv8uJadS",
        "colab_type": "code",
        "outputId": "099217e7-5d5a-44b6-d615-19bd8199066b",
        "colab": {
          "base_uri": "https://localhost:8080/",
          "height": 34
        }
      },
      "source": [
        "import tensorflow as tf  # now import the tensorflow module\n",
        "print(tf.version)  # make sure the version is 2.x"
      ],
      "execution_count": 0,
      "outputs": [
        {
          "output_type": "stream",
          "text": [
            "<module 'tensorflow._api.v2.version' from '/usr/local/lib/python3.6/dist-packages/tensorflow/_api/v2/version/__init__.py'>\n"
          ],
          "name": "stdout"
        }
      ]
    },
    {
      "cell_type": "markdown",
      "metadata": {
        "id": "GSRris4AjFvI",
        "colab_type": "text"
      },
      "source": [
        "Tensor types"
      ]
    },
    {
      "cell_type": "code",
      "metadata": {
        "id": "dVBrvk73Jrcf",
        "colab_type": "code",
        "outputId": "9c85bcca-2316-4101-8ed7-29cf857ec332",
        "colab": {
          "base_uri": "https://localhost:8080/",
          "height": 68
        }
      },
      "source": [
        "string = tf.Variable(\"this is a string\", tf.string) \n",
        "number = tf.Variable(324, tf.int16)\n",
        "floating = tf.Variable(3.567, tf.float64)\n",
        "\n",
        "print(string)\n",
        "print(number)\n",
        "print(floating)"
      ],
      "execution_count": 0,
      "outputs": [
        {
          "output_type": "stream",
          "text": [
            "<tf.Variable 'Variable:0' shape=() dtype=string, numpy=b'this is a string'>\n",
            "<tf.Variable 'Variable:0' shape=() dtype=int32, numpy=324>\n",
            "<tf.Variable 'Variable:0' shape=() dtype=float32, numpy=3.567>\n"
          ],
          "name": "stdout"
        }
      ]
    },
    {
      "cell_type": "markdown",
      "metadata": {
        "id": "1wrQ1PlgjIyB",
        "colab_type": "text"
      },
      "source": [
        "Shapes and rank"
      ]
    },
    {
      "cell_type": "code",
      "metadata": {
        "id": "uDvKzEtaJ7Oe",
        "colab_type": "code",
        "outputId": "830cb3ce-11c7-48cb-a6bc-4b44bb95db2d",
        "colab": {
          "base_uri": "https://localhost:8080/",
          "height": 374
        }
      },
      "source": [
        "tensor1 = tf.Variable([\"Test\"], tf.string) \n",
        "tensor2 = tf.Variable([[\"test\", \"ok\", \"A\"], [\"test\", \"yes\", \"A\"]], tf.string)\n",
        "tensor3 = tf.Variable([[[\"1\", \"2\", \"3\"], [\"3\", \"4\", \"5\"]],[[\"5\", \"6\", \"6\"], [\"7\", \"8\", \"7\"]], [[\"5\", \"6\", \"6\"], [\"7\", \"8\", \"7\"]]], tf.string)\n",
        "\n",
        "#shape - ...groups x rows x columns\n",
        "#rank - dimensions - deep of the arrays, [] = 1, [[]] = 2, [[[]]] = 3....\n",
        "\n",
        "print(tensor1)\n",
        "print(\"\")\n",
        "print(tensor2)\n",
        "print(\"\")\n",
        "print(tensor3)\n",
        "print(\"\")\n",
        "print(tf.rank(tensor1))\n",
        "print(\"\")\n",
        "print(tf.rank(tensor2))\n",
        "print(\"\")\n",
        "print(tf.rank(tensor3))"
      ],
      "execution_count": 0,
      "outputs": [
        {
          "output_type": "stream",
          "text": [
            "<tf.Variable 'Variable:0' shape=(1,) dtype=string, numpy=array([b'Test'], dtype=object)>\n",
            "\n",
            "<tf.Variable 'Variable:0' shape=(2, 3) dtype=string, numpy=\n",
            "array([[b'test', b'ok', b'A'],\n",
            "       [b'test', b'yes', b'A']], dtype=object)>\n",
            "\n",
            "<tf.Variable 'Variable:0' shape=(3, 2, 3) dtype=string, numpy=\n",
            "array([[[b'1', b'2', b'3'],\n",
            "        [b'3', b'4', b'5']],\n",
            "\n",
            "       [[b'5', b'6', b'6'],\n",
            "        [b'7', b'8', b'7']],\n",
            "\n",
            "       [[b'5', b'6', b'6'],\n",
            "        [b'7', b'8', b'7']]], dtype=object)>\n",
            "\n",
            "tf.Tensor(1, shape=(), dtype=int32)\n",
            "\n",
            "tf.Tensor(2, shape=(), dtype=int32)\n",
            "\n",
            "tf.Tensor(3, shape=(), dtype=int32)\n"
          ],
          "name": "stdout"
        }
      ]
    },
    {
      "cell_type": "markdown",
      "metadata": {
        "id": "7Syaot9zjOU5",
        "colab_type": "text"
      },
      "source": [
        "Reshape"
      ]
    },
    {
      "cell_type": "code",
      "metadata": {
        "id": "Cb-7J3M6gWoK",
        "colab_type": "code",
        "outputId": "7181d80b-434b-428a-e6e5-850fb54e6c7a",
        "colab": {
          "base_uri": "https://localhost:8080/",
          "height": 408
        }
      },
      "source": [
        "tensor4 = tf.ones([1,2,3])  # tf.ones() creates a shape [1,2,3] tensor full of ones\n",
        "tensor5 = tf.reshape(tensor4, [2,3,1])  # reshape existing data to shape [2,3,1]\n",
        "tensor6 = tf.reshape(tensor5, [3, -1])  # -1 tells the tensor to calculate the size of the dimension in that place\n",
        "                                        # this will reshape the tensor to [3,2]\n",
        "                                                                             \n",
        "# The numer of elements in the reshaped tensor MUST match the number in the original\n",
        "\n",
        "print(tensor4)\n",
        "print(\"\")\n",
        "print(tensor5)\n",
        "print(\"\")\n",
        "print(tensor6)\n",
        "print(\"\")\n",
        "print(tf.rank(tensor4))\n",
        "print(\"\")\n",
        "print(tf.rank(tensor5))\n",
        "print(\"\")\n",
        "print(tf.rank(tensor6))"
      ],
      "execution_count": 0,
      "outputs": [
        {
          "output_type": "stream",
          "text": [
            "tf.Tensor(\n",
            "[[[1. 1. 1.]\n",
            "  [1. 1. 1.]]], shape=(1, 2, 3), dtype=float32)\n",
            "\n",
            "tf.Tensor(\n",
            "[[[1.]\n",
            "  [1.]\n",
            "  [1.]]\n",
            "\n",
            " [[1.]\n",
            "  [1.]\n",
            "  [1.]]], shape=(2, 3, 1), dtype=float32)\n",
            "\n",
            "tf.Tensor(\n",
            "[[1. 1.]\n",
            " [1. 1.]\n",
            " [1. 1.]], shape=(3, 2), dtype=float32)\n",
            "\n",
            "tf.Tensor(3, shape=(), dtype=int32)\n",
            "\n",
            "tf.Tensor(3, shape=(), dtype=int32)\n",
            "\n",
            "tf.Tensor(2, shape=(), dtype=int32)\n"
          ],
          "name": "stdout"
        }
      ]
    },
    {
      "cell_type": "markdown",
      "metadata": {
        "id": "I52NZ9Ljjmm8",
        "colab_type": "text"
      },
      "source": [
        "Slicing Tensors"
      ]
    },
    {
      "cell_type": "code",
      "metadata": {
        "id": "_XVqiZKxjiCC",
        "colab_type": "code",
        "outputId": "12a1e7e9-b1c4-4762-9a77-e0ce26b89bcc",
        "colab": {
          "base_uri": "https://localhost:8080/",
          "height": 51
        }
      },
      "source": [
        "# Creating a 2D tensor\n",
        "matrix = [[1,2,3,4,5],\n",
        "          [6,7,8,9,10],\n",
        "          [11,12,13,14,15],\n",
        "          [16,17,18,19,20]]\n",
        "\n",
        "tensor = tf.Variable(matrix, dtype=tf.int32) \n",
        "print(tf.rank(tensor))\n",
        "print(tensor.shape)"
      ],
      "execution_count": 0,
      "outputs": [
        {
          "output_type": "stream",
          "text": [
            "tf.Tensor(2, shape=(), dtype=int32)\n",
            "(4, 5)\n"
          ],
          "name": "stdout"
        }
      ]
    },
    {
      "cell_type": "code",
      "metadata": {
        "id": "FVxTsa3tj_h9",
        "colab_type": "code",
        "outputId": "9f4321a2-b641-4465-d257-2e3d310cde44",
        "colab": {
          "base_uri": "https://localhost:8080/",
          "height": 306
        }
      },
      "source": [
        "# Now lets select some different rows and columns from our tensor\n",
        "\n",
        "three = tensor[0,2]  # selects the 3rd element from the 1st row\n",
        "print(\"selects the 3rd element from the 1st row\")\n",
        "print(three)  # -> 3\n",
        "print(\"\")\n",
        "\n",
        "row1 = tensor[0]  # selects the first row\n",
        "print(\"selects the first row\")\n",
        "print(row1)\n",
        "print(\"\")\n",
        "\n",
        "column1 = tensor[:, 0]  # selects the first column\n",
        "print(\"selects the first column\")\n",
        "print(column1)\n",
        "print(\"\")\n",
        "\n",
        "row_2_and_4 = tensor[1::2]  # selects second and fourth row\n",
        "print(\"selects second and fourth row\")\n",
        "print(row_2_and_4)\n",
        "print(\"\")\n",
        "\n",
        "column_1_in_row_2_and_3 = tensor[1:3, 0] # selects first column of second and third rows\n",
        "print(\"selects first column of second and third rows\")\n",
        "print(column_1_in_row_2_and_3)\n",
        "print(\"\")"
      ],
      "execution_count": 0,
      "outputs": [
        {
          "output_type": "stream",
          "text": [
            "selects the 3rd element from the 1st row\n",
            "tf.Tensor(3, shape=(), dtype=int32)\n",
            "\n",
            "selects the first row\n",
            "tf.Tensor([1 2 3 4 5], shape=(5,), dtype=int32)\n",
            "\n",
            "selects the first column\n",
            "tf.Tensor([ 1  6 11 16], shape=(4,), dtype=int32)\n",
            "\n",
            "selects second and fourth row\n",
            "tf.Tensor(\n",
            "[[ 6  7  8  9 10]\n",
            " [16 17 18 19 20]], shape=(2, 5), dtype=int32)\n",
            "\n",
            "selects first column of second and third rows\n",
            "tf.Tensor([ 6 11], shape=(2,), dtype=int32)\n",
            "\n"
          ],
          "name": "stdout"
        }
      ]
    }
  ]
}